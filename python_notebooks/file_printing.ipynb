{
 "cells": [
  {
   "cell_type": "code",
   "execution_count": 11,
   "metadata": {},
   "outputs": [],
   "source": [
    "from os import listdir\n",
    "from os.path import isfile, join\n",
    "from utils.tools import *"
   ]
  },
  {
   "cell_type": "code",
   "execution_count": 12,
   "metadata": {},
   "outputs": [],
   "source": [
    "path=r\"C:\\Users\\cjang\\Desktop\\impedance_data\\data\\\\\"\n",
    "path_files = [f for f in listdir(path) if isfile(join(path, f))]"
   ]
  },
  {
   "cell_type": "code",
   "execution_count": 13,
   "metadata": {},
   "outputs": [
    {
     "data": {
      "text/plain": [
       "['DE_40_10_60.mpt',\n",
       " 'DE_40_11_60.mpt',\n",
       " 'DE_40_12_60.mpt',\n",
       " 'DE_40_13_60.mpt',\n",
       " 'DE_40_14_60.mpt',\n",
       " 'DE_40_15_60.mpt',\n",
       " 'DE_40_1_30.mpt',\n",
       " 'DE_40_2_60.mpt',\n",
       " 'DE_40_3_60.mpt',\n",
       " 'DE_40_4_60.mpt',\n",
       " 'DE_40_5_60.mpt',\n",
       " 'DE_40_6_60.mpt',\n",
       " 'DE_40_7_60.mpt',\n",
       " 'DE_40_8_60.mpt',\n",
       " 'DE_40_9_60.mpt',\n",
       " 'DE_49_1_30.mpt',\n",
       " 'DE_49_2_30.mpt',\n",
       " 'DE_49_3_30.mpt',\n",
       " 'DE_49_4_30.mpt',\n",
       " 'DE_49_5_30.mpt',\n",
       " 'DE_49_6_30.mpt',\n",
       " 'DE_49_7_30.mpt',\n",
       " 'DE_49_8_30.mpt',\n",
       " 'DE_49_9_30.mpt']"
      ]
     },
     "execution_count": 13,
     "metadata": {},
     "output_type": "execute_result"
    }
   ],
   "source": [
    "path_files"
   ]
  },
  {
   "cell_type": "code",
   "execution_count": null,
   "metadata": {},
   "outputs": [],
   "source": []
  }
 ],
 "metadata": {
  "kernelspec": {
   "display_name": "Python 3",
   "language": "python",
   "name": "python3"
  },
  "language_info": {
   "codemirror_mode": {
    "name": "ipython",
    "version": 3
   },
   "file_extension": ".py",
   "mimetype": "text/x-python",
   "name": "python",
   "nbconvert_exporter": "python",
   "pygments_lexer": "ipython3",
   "version": "3.7.4"
  }
 },
 "nbformat": 4,
 "nbformat_minor": 2
}
