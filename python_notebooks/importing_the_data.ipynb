{
 "cells": [
  {
   "cell_type": "markdown",
   "metadata": {},
   "source": [
    "# Importing the Data\n",
    "High level view of the functionality of Kyler's Speed Circuit"
   ]
  },
  {
   "cell_type": "markdown",
   "metadata": {},
   "source": [
    "The library uses an mpt_data object, which takes in the pathway to the file(or files), the name of the mpt file, and the mask. The mask of the mpt file is optional, that will be addressed in a later page. The example below shows a path in my data folder, where the name of the data is called 'DE_40_1_30.mpt'"
   ]
  },
  {
   "cell_type": "code",
   "execution_count": 1,
   "metadata": {},
   "outputs": [],
   "source": [
    "#Locate the data, prepare for import of the MPT file\n",
    "#Import necessary packaging\n",
    "from utils.tools import *\n",
    "\n",
    "#EXAMPLE\n",
    "#THE PATH WILL VARY FOR EACH PERSON\n",
    "path=r\"C:\\Users\\cjang\\Desktop\\\\\"\n",
    "data = ['DE_40_1_30.mpt']\n",
    "ex_mpt = mpt_data(path,data)"
   ]
  },
  {
   "cell_type": "markdown",
   "metadata": {},
   "source": [
    "Press Shift + Enter to run the cell! We have now saved that mpt's data into a mpt_data object called ex_mpt\n",
    "\n",
    "Once imported, the data has several attributes you can access. From the picture above, we can see that our data has been saved under the name mpt_data. We can access the information of the mpt file through viewing it as a Pandas dataframe. "
   ]
  },
  {
   "cell_type": "code",
   "execution_count": 2,
   "metadata": {},
   "outputs": [
    {
     "data": {
      "text/html": "<div>\n<style scoped>\n    .dataframe tbody tr th:only-of-type {\n        vertical-align: middle;\n    }\n\n    .dataframe tbody tr th {\n        vertical-align: top;\n    }\n\n    .dataframe thead th {\n        text-align: right;\n    }\n</style>\n<table border=\"1\" class=\"dataframe\">\n  <thead>\n    <tr style=\"text-align: right;\">\n      <th></th>\n      <th>f</th>\n      <th>re</th>\n      <th>im</th>\n      <th>Z_mag</th>\n      <th>Z_phase</th>\n      <th>times</th>\n      <th>E_avg</th>\n      <th>I_avg</th>\n      <th>Cs/µF</th>\n      <th>Cp/µF</th>\n      <th>...</th>\n      <th>(Q-Qo)/mA.h</th>\n      <th>Analog OUT/V</th>\n      <th>Analog IN 1/V</th>\n      <th>Y_re</th>\n      <th>Y_im</th>\n      <th>Y_mag</th>\n      <th>Y_phase</th>\n      <th>dq/mA.h</th>\n      <th>Unnamed: 22</th>\n      <th>w</th>\n    </tr>\n  </thead>\n  <tbody>\n    <tr>\n      <th>0</th>\n      <td>1.000019e+06</td>\n      <td>54.048367</td>\n      <td>150.66867</td>\n      <td>160.06960</td>\n      <td>-70.265907</td>\n      <td>1.952490</td>\n      <td>0.143328</td>\n      <td>0.002934</td>\n      <td>0.001056</td>\n      <td>0.000936</td>\n      <td>...</td>\n      <td>6.667457e-07</td>\n      <td>0.0</td>\n      <td>-100.07802</td>\n      <td>0.002109</td>\n      <td>0.005880</td>\n      <td>0.006247</td>\n      <td>70.265907</td>\n      <td>6.667457e-07</td>\n      <td>NaN</td>\n      <td>6.283302e+06</td>\n    </tr>\n    <tr>\n      <th>1</th>\n      <td>8.912467e+05</td>\n      <td>63.989281</td>\n      <td>159.15256</td>\n      <td>171.53473</td>\n      <td>-68.096786</td>\n      <td>2.547490</td>\n      <td>0.143855</td>\n      <td>0.002962</td>\n      <td>0.001122</td>\n      <td>0.000966</td>\n      <td>...</td>\n      <td>1.192503e-06</td>\n      <td>0.0</td>\n      <td>-100.11009</td>\n      <td>0.002175</td>\n      <td>0.005409</td>\n      <td>0.005830</td>\n      <td>68.096786</td>\n      <td>5.257568e-07</td>\n      <td>NaN</td>\n      <td>5.599868e+06</td>\n    </tr>\n    <tr>\n      <th>2</th>\n      <td>7.943327e+05</td>\n      <td>74.258514</td>\n      <td>169.97333</td>\n      <td>185.48654</td>\n      <td>-66.400284</td>\n      <td>3.143485</td>\n      <td>0.144280</td>\n      <td>0.002877</td>\n      <td>0.001179</td>\n      <td>0.000990</td>\n      <td>...</td>\n      <td>1.663158e-06</td>\n      <td>0.0</td>\n      <td>-100.08604</td>\n      <td>0.002158</td>\n      <td>0.004940</td>\n      <td>0.005391</td>\n      <td>66.400284</td>\n      <td>4.706558e-07</td>\n      <td>NaN</td>\n      <td>4.990939e+06</td>\n    </tr>\n    <tr>\n      <th>3</th>\n      <td>7.079498e+05</td>\n      <td>84.547234</td>\n      <td>182.14189</td>\n      <td>200.80812</td>\n      <td>-65.100060</td>\n      <td>3.738496</td>\n      <td>0.144718</td>\n      <td>0.002884</td>\n      <td>0.001234</td>\n      <td>0.001015</td>\n      <td>...</td>\n      <td>2.106556e-06</td>\n      <td>0.0</td>\n      <td>-100.09406</td>\n      <td>0.002097</td>\n      <td>0.004517</td>\n      <td>0.004980</td>\n      <td>65.100060</td>\n      <td>4.433972e-07</td>\n      <td>NaN</td>\n      <td>4.448180e+06</td>\n    </tr>\n    <tr>\n      <th>4</th>\n      <td>6.309568e+05</td>\n      <td>94.702721</td>\n      <td>195.64064</td>\n      <td>217.35654</td>\n      <td>-64.170013</td>\n      <td>4.334485</td>\n      <td>0.145094</td>\n      <td>0.002913</td>\n      <td>0.001289</td>\n      <td>0.001045</td>\n      <td>...</td>\n      <td>2.647878e-06</td>\n      <td>0.0</td>\n      <td>-100.06999</td>\n      <td>0.002005</td>\n      <td>0.004141</td>\n      <td>0.004601</td>\n      <td>64.170013</td>\n      <td>5.413223e-07</td>\n      <td>NaN</td>\n      <td>3.964419e+06</td>\n    </tr>\n    <tr>\n      <th>...</th>\n      <td>...</td>\n      <td>...</td>\n      <td>...</td>\n      <td>...</td>\n      <td>...</td>\n      <td>...</td>\n      <td>...</td>\n      <td>...</td>\n      <td>...</td>\n      <td>...</td>\n      <td>...</td>\n      <td>...</td>\n      <td>...</td>\n      <td>...</td>\n      <td>...</td>\n      <td>...</td>\n      <td>...</td>\n      <td>...</td>\n      <td>...</td>\n      <td>...</td>\n      <td>...</td>\n    </tr>\n    <tr>\n      <th>115</th>\n      <td>1.779613e+00</td>\n      <td>24918.471000</td>\n      <td>67931.18000</td>\n      <td>72357.27300</td>\n      <td>-69.855988</td>\n      <td>86.037948</td>\n      <td>0.146866</td>\n      <td>0.000918</td>\n      <td>1.316514</td>\n      <td>1.160378</td>\n      <td>...</td>\n      <td>2.866626e-05</td>\n      <td>0.0</td>\n      <td>-100.05396</td>\n      <td>0.000005</td>\n      <td>0.000013</td>\n      <td>0.000014</td>\n      <td>69.855988</td>\n      <td>5.162514e-07</td>\n      <td>NaN</td>\n      <td>1.118164e+01</td>\n    </tr>\n    <tr>\n      <th>116</th>\n      <td>1.584685e+00</td>\n      <td>26710.168000</td>\n      <td>74695.64800</td>\n      <td>79327.63300</td>\n      <td>-70.323631</td>\n      <td>88.297022</td>\n      <td>0.146872</td>\n      <td>0.000916</td>\n      <td>1.344565</td>\n      <td>1.192129</td>\n      <td>...</td>\n      <td>2.928583e-05</td>\n      <td>0.0</td>\n      <td>-100.09406</td>\n      <td>0.000004</td>\n      <td>0.000012</td>\n      <td>0.000013</td>\n      <td>70.323631</td>\n      <td>6.195718e-07</td>\n      <td>NaN</td>\n      <td>9.956872e+00</td>\n    </tr>\n    <tr>\n      <th>117</th>\n      <td>1.412238e+00</td>\n      <td>28695.117000</td>\n      <td>82255.38300</td>\n      <td>87116.92200</td>\n      <td>-70.768471</td>\n      <td>90.826089</td>\n      <td>0.146869</td>\n      <td>0.000926</td>\n      <td>1.370086</td>\n      <td>1.221438</td>\n      <td>...</td>\n      <td>2.985544e-05</td>\n      <td>0.0</td>\n      <td>-100.09406</td>\n      <td>0.000004</td>\n      <td>0.000011</td>\n      <td>0.000011</td>\n      <td>70.768471</td>\n      <td>5.696082e-07</td>\n      <td>NaN</td>\n      <td>8.873354e+00</td>\n    </tr>\n    <tr>\n      <th>118</th>\n      <td>1.259674e+00</td>\n      <td>30874.131000</td>\n      <td>90549.34400</td>\n      <td>95668.15600</td>\n      <td>-71.172440</td>\n      <td>93.654935</td>\n      <td>0.146873</td>\n      <td>0.000918</td>\n      <td>1.395329</td>\n      <td>1.250007</td>\n      <td>...</td>\n      <td>3.067465e-05</td>\n      <td>0.0</td>\n      <td>-100.02187</td>\n      <td>0.000003</td>\n      <td>0.000010</td>\n      <td>0.000010</td>\n      <td>71.172440</td>\n      <td>8.192121e-07</td>\n      <td>NaN</td>\n      <td>7.914767e+00</td>\n    </tr>\n    <tr>\n      <th>119</th>\n      <td>1.122486e+00</td>\n      <td>33241.840000</td>\n      <td>99763.20300</td>\n      <td>105155.68000</td>\n      <td>-71.571541</td>\n      <td>96.823126</td>\n      <td>0.146865</td>\n      <td>0.000921</td>\n      <td>1.421245</td>\n      <td>1.279217</td>\n      <td>...</td>\n      <td>3.138840e-05</td>\n      <td>0.0</td>\n      <td>-100.06999</td>\n      <td>0.000003</td>\n      <td>0.000009</td>\n      <td>0.000010</td>\n      <td>71.571541</td>\n      <td>7.137503e-07</td>\n      <td>NaN</td>\n      <td>7.052785e+00</td>\n    </tr>\n  </tbody>\n</table>\n<p>120 rows × 24 columns</p>\n</div>",
      "text/plain": "                f            re           im         Z_mag    Z_phase  \\\n0    1.000019e+06     54.048367    150.66867     160.06960 -70.265907   \n1    8.912467e+05     63.989281    159.15256     171.53473 -68.096786   \n2    7.943327e+05     74.258514    169.97333     185.48654 -66.400284   \n3    7.079498e+05     84.547234    182.14189     200.80812 -65.100060   \n4    6.309568e+05     94.702721    195.64064     217.35654 -64.170013   \n..            ...           ...          ...           ...        ...   \n115  1.779613e+00  24918.471000  67931.18000   72357.27300 -69.855988   \n116  1.584685e+00  26710.168000  74695.64800   79327.63300 -70.323631   \n117  1.412238e+00  28695.117000  82255.38300   87116.92200 -70.768471   \n118  1.259674e+00  30874.131000  90549.34400   95668.15600 -71.172440   \n119  1.122486e+00  33241.840000  99763.20300  105155.68000 -71.571541   \n\n         times     E_avg     I_avg     Cs/µF     Cp/µF  ...   (Q-Qo)/mA.h  \\\n0     1.952490  0.143328  0.002934  0.001056  0.000936  ...  6.667457e-07   \n1     2.547490  0.143855  0.002962  0.001122  0.000966  ...  1.192503e-06   \n2     3.143485  0.144280  0.002877  0.001179  0.000990  ...  1.663158e-06   \n3     3.738496  0.144718  0.002884  0.001234  0.001015  ...  2.106556e-06   \n4     4.334485  0.145094  0.002913  0.001289  0.001045  ...  2.647878e-06   \n..         ...       ...       ...       ...       ...  ...           ...   \n115  86.037948  0.146866  0.000918  1.316514  1.160378  ...  2.866626e-05   \n116  88.297022  0.146872  0.000916  1.344565  1.192129  ...  2.928583e-05   \n117  90.826089  0.146869  0.000926  1.370086  1.221438  ...  2.985544e-05   \n118  93.654935  0.146873  0.000918  1.395329  1.250007  ...  3.067465e-05   \n119  96.823126  0.146865  0.000921  1.421245  1.279217  ...  3.138840e-05   \n\n     Analog OUT/V  Analog IN 1/V      Y_re      Y_im     Y_mag    Y_phase  \\\n0             0.0     -100.07802  0.002109  0.005880  0.006247  70.265907   \n1             0.0     -100.11009  0.002175  0.005409  0.005830  68.096786   \n2             0.0     -100.08604  0.002158  0.004940  0.005391  66.400284   \n3             0.0     -100.09406  0.002097  0.004517  0.004980  65.100060   \n4             0.0     -100.06999  0.002005  0.004141  0.004601  64.170013   \n..            ...            ...       ...       ...       ...        ...   \n115           0.0     -100.05396  0.000005  0.000013  0.000014  69.855988   \n116           0.0     -100.09406  0.000004  0.000012  0.000013  70.323631   \n117           0.0     -100.09406  0.000004  0.000011  0.000011  70.768471   \n118           0.0     -100.02187  0.000003  0.000010  0.000010  71.172440   \n119           0.0     -100.06999  0.000003  0.000009  0.000010  71.571541   \n\n          dq/mA.h  Unnamed: 22             w  \n0    6.667457e-07          NaN  6.283302e+06  \n1    5.257568e-07          NaN  5.599868e+06  \n2    4.706558e-07          NaN  4.990939e+06  \n3    4.433972e-07          NaN  4.448180e+06  \n4    5.413223e-07          NaN  3.964419e+06  \n..            ...          ...           ...  \n115  5.162514e-07          NaN  1.118164e+01  \n116  6.195718e-07          NaN  9.956872e+00  \n117  5.696082e-07          NaN  8.873354e+00  \n118  8.192121e-07          NaN  7.914767e+00  \n119  7.137503e-07          NaN  7.052785e+00  \n\n[120 rows x 24 columns]"
     },
     "execution_count": 2,
     "metadata": {},
     "output_type": "execute_result"
    }
   ],
   "source": [
    "ex_mpt.df_raw"
   ]
  },
  {
   "cell_type": "markdown",
   "metadata": {},
   "source": [
    "From here, we can access various information about this mpt file such as the real values column by calling 're' on the dataframe."
   ]
  },
  {
   "cell_type": "code",
   "execution_count": 3,
   "metadata": {},
   "outputs": [
    {
     "data": {
      "text/plain": "0         54.048367\n1         63.989281\n2         74.258514\n3         84.547234\n4         94.702721\n           ...     \n115    24918.471000\n116    26710.168000\n117    28695.117000\n118    30874.131000\n119    33241.840000\nName: re, Length: 120, dtype: float64"
     },
     "execution_count": 3,
     "metadata": {},
     "output_type": "execute_result"
    }
   ],
   "source": [
    "ex_mpt.df_raw['re']"
   ]
  },
  {
   "cell_type": "markdown",
   "metadata": {},
   "source": [
    "The mpt_data object that we have created has four main functions:\n",
    "    1. ex_mpt.mpt_plot\n",
    "    2. ex_mpt.mpt_fit\n",
    "    3. ex_mpt.Lin_KK\n",
    "    4. ex_mpt.masker\n"
   ]
  },
  {
   "cell_type": "code",
   "execution_count": null,
   "metadata": {},
   "outputs": [],
   "source": []
  }
 ],
 "metadata": {
  "kernelspec": {
   "display_name": "Python 3",
   "language": "python",
   "name": "python3"
  },
  "language_info": {
   "codemirror_mode": {
    "name": "ipython",
    "version": 3
   },
   "file_extension": ".py",
   "mimetype": "text/x-python",
   "name": "python",
   "nbconvert_exporter": "python",
   "pygments_lexer": "ipython3",
   "version": "3.7.4-final"
  }
 },
 "nbformat": 4,
 "nbformat_minor": 2
}