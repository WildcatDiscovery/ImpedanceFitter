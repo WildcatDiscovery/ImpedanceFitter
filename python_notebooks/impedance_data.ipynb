{
 "cells": [
  {
   "cell_type": "markdown",
   "metadata": {},
   "source": [
    "# Custom Impedance Fitting Function\n",
    "Borrowing from the PyEIS Library, this page demonstrates how to use the Electrochemical Spectroscopy fitting function"
   ]
  },
  {
   "cell_type": "code",
   "execution_count": 5,
   "metadata": {},
   "outputs": [],
   "source": [
    "#PyEIS Library#\n",
    "from utils.tools import *"
   ]
  },
  {
   "cell_type": "code",
   "execution_count": 6,
   "metadata": {},
   "outputs": [],
   "source": [
    "#Locate the data, prepare for import of the MPT file\n",
    "\n",
    "#EXAMPLE\n",
    "path=r\"C:\\Users\\cjang\\Desktop\\impedance_data\\\\\"\n",
    "data = ['DE_40_1_30.mpt']"
   ]
  },
  {
   "cell_type": "code",
   "execution_count": 7,
   "metadata": {},
   "outputs": [],
   "source": [
    "#WE WILL TREAT ONE ITEM AS AN EIS OBJECT, THE OTHER AS A DATAFRAME\n",
    "mpt_data = mpt_data(path,data)"
   ]
  },
  {
   "cell_type": "code",
   "execution_count": 15,
   "metadata": {},
   "outputs": [
    {
     "name": "stdout",
     "output_type": "stream",
     "text": "[[Fit Statistics]]\n    # fitting method   = leastsq\n    # function evals   = 45\n    # data points      = 42\n    # variables        = 7\n    chi-square         = 1799.55337\n    reduced chi-square = 51.4158107\n    Akaike info crit   = 171.820215\n    Bayesian info crit = 183.983902\n[[Variables]]\n    Rs:   0.33939311 +/- 484.543701 (142767.69%) (init = 1000)\n    R:    838.210776 +/- 136794.752 (16319.85%) (init = 2959)\n    n:    0.90639018 +/- 12.4797146 (1376.86%) (init = 0.8)\n    fs:   26387.0677 +/- 2014517.49 (7634.49%) (init = 23023)\n    R2:   655109.923 +/- 9.4015e+09 (1435096.95%) (init = 258738)\n    n2:   0.65020613 +/- 8.86249394 (1363.03%) (init = 0.8)\n    fs2:  1.36920587 +/- 30557.5349 (2231770.66%) (init = 0.2)\n[[Correlations]] (unreported correlations are < 0.100)\n    C(R2, fs2) = -1.000\n    C(R, n)    = -1.000\n    C(R, fs)   = -0.997\n    C(n, fs)   =  0.996\n    C(R, n2)   = -0.995\n    C(n, n2)   =  0.995\n    C(n2, fs2) =  0.995\n    C(R2, n2)  = -0.995\n    C(Rs, fs2) = -0.989\n    C(Rs, R2)  =  0.989\n    C(Rs, n2)  = -0.989\n    C(fs, n2)  =  0.985\n    C(n, fs2)  =  0.982\n    C(n, R2)   = -0.982\n    C(R, fs2)  = -0.981\n    C(R, R2)   =  0.981\n    C(Rs, R)   =  0.974\n    C(Rs, n)   = -0.971\n    C(fs, fs2) =  0.965\n    C(fs, R2)  = -0.964\n    C(Rs, fs)  = -0.957\nNone\n"
    }
   ],
   "source": [
    "#USES THE EIS FITTING FUNCTION TO PREDICT THE FREQUENCIES OF THE MPT FILE\n",
    "\n",
    "#INITIAL ARBITRARY GUESSES\n",
    "#WILL CREATE A MANUAL FUNCTION THAT CAN ADJUST THE INITIAL GUESSES BUT FOR RIGHT NOW, RUN WITH THESE\n",
    "Rs_guess = 10\n",
    "\n",
    "R_guess = 2959\n",
    "n_guess = 0.8\n",
    "fs_guess = 23023\n",
    "\n",
    "R2_guess = 258738\n",
    "n2_guess = 0.8\n",
    "fs2_guess = 0.2\n",
    "\n",
    "\n",
    "\n",
    "#USE THE PARAMETERS DATA STRUCTURE TO WRAP THE INITIAL VALUES\n",
    "params = Parameters()\n",
    "params.add('Rs', value=R_guess, min=Rs_guess*.01, max=Rs_guess*100)\n",
    "\n",
    "params.add('R', value=R_guess, min=R_guess*.1, max=R_guess*10)\n",
    "params.add('n', value=n_guess, min=.65, max=1.2)\n",
    "params.add('fs', value=fs_guess, min=10**0.5, max=10**6)\n",
    "#params.add('Q', value=fs_guess, min=10**0.5, max=10**6)\n",
    "\n",
    "params.add('R2', value=R2_guess, min=R2_guess*.1, max=R2_guess*10)\n",
    "params.add('n2', value=n2_guess, min=.65, max=1.2)\n",
    "params.add('fs2', value=fs2_guess, min=10**-2, max=10**1)\n",
    "#params.add('Q2', value=fs2_guess, min=10**-2, max=10**2)\n",
    "\n",
    "\n",
    "\n",
    "#FIT THE PARAMETERS ALONG THE R - RQ - RQ CIRCUIT\n",
    "#LATER WILL PROVIDE OPTIONS TO BENEFITS AND DETRACTIONS OF THE WEIGHT FUNCTION AFTER FURTHER RESEARCH\n",
    "mpt_data1.mpt_fit(params=params, circuit='R-RQ-RQ', weight_func='modulus')\n",
    "#THIS WILL OUTPUT A SET OF COEFFICIENTS PREDICTED FROM THE FIT"
   ]
  },
  {
   "cell_type": "code",
   "execution_count": 17,
   "metadata": {},
   "outputs": [],
   "source": [
    "#PLOTS THE PREDICTIONS\n",
    "mpt_data1.set_new_gph_dims(20,20)"
   ]
  },
  {
   "cell_type": "code",
   "execution_count": 18,
   "metadata": {},
   "outputs": [
    {
     "ename": "TypeError",
     "evalue": "Lin_KK() missing 1 required positional argument: 'self'",
     "output_type": "error",
     "traceback": [
      "\u001b[1;31m---------------------------------------------------------------------------\u001b[0m",
      "\u001b[1;31mTypeError\u001b[0m                                 Traceback (most recent call last)",
      "\u001b[1;32m<ipython-input-18-4f10f5bd8906>\u001b[0m in \u001b[0;36m<module>\u001b[1;34m\u001b[0m\n\u001b[0;32m      3\u001b[0m \u001b[1;31m#WILL HELP PREVENT WITH LONG FITTING PROCESSES\u001b[0m\u001b[1;33m\u001b[0m\u001b[1;33m\u001b[0m\u001b[1;33m\u001b[0m\u001b[0m\n\u001b[0;32m      4\u001b[0m \u001b[1;33m\u001b[0m\u001b[0m\n\u001b[1;32m----> 5\u001b[1;33m \u001b[0mmpt_data\u001b[0m\u001b[1;33m.\u001b[0m\u001b[0mLin_KK\u001b[0m\u001b[1;33m(\u001b[0m\u001b[0mlegend\u001b[0m\u001b[1;33m=\u001b[0m\u001b[1;34m'potential'\u001b[0m\u001b[1;33m)\u001b[0m\u001b[1;33m\u001b[0m\u001b[1;33m\u001b[0m\u001b[0m\n\u001b[0m\u001b[0;32m      6\u001b[0m \u001b[0mex_num_RC\u001b[0m\u001b[1;33m=\u001b[0m\u001b[1;36m2\u001b[0m\u001b[1;33m\u001b[0m\u001b[1;33m\u001b[0m\u001b[0m\n\u001b[0;32m      7\u001b[0m \u001b[0mmpt_data\u001b[0m\u001b[1;33m.\u001b[0m\u001b[0mLin_KK\u001b[0m\u001b[1;33m(\u001b[0m\u001b[0mlegend\u001b[0m\u001b[1;33m=\u001b[0m\u001b[1;34m'potential'\u001b[0m\u001b[1;33m,\u001b[0m \u001b[0mnum_RC\u001b[0m \u001b[1;33m=\u001b[0m \u001b[0mex_num_RC\u001b[0m\u001b[1;33m)\u001b[0m\u001b[1;33m\u001b[0m\u001b[1;33m\u001b[0m\u001b[0m\n",
      "\u001b[1;31mTypeError\u001b[0m: Lin_KK() missing 1 required positional argument: 'self'"
     ]
    }
   ],
   "source": [
    "#THIS IS THE LINEAR KRAMER KRONIG ANALYSIS SECTION\n",
    "#NOT NESSESCARY AT THE MOMENT, BUT THIS WILL HELP ADJUST THE MASK\n",
    "#WILL HELP PREVENT WITH LONG FITTING PROCESSES\n",
    "\n",
    "mpt_data.Lin_KK(legend='potential')\n",
    "ex_num_RC=2\n",
    "mpt_data.Lin_KK(legend='potential', num_RC = ex_num_RC)\n",
    "print()\n",
    "print('number of RC-elements: [1] = ',int(ex_num_RC*mpt_data.decade[0]))\n",
    "mpt_data.Lin_KK(plot='w_data')"
   ]
  },
  {
   "cell_type": "code",
   "execution_count": 19,
   "metadata": {},
   "outputs": [
    {
     "ename": "AttributeError",
     "evalue": "type object 'mpt_data' has no attribute 'fit_Rs'",
     "output_type": "error",
     "traceback": [
      "\u001b[1;31m---------------------------------------------------------------------------\u001b[0m",
      "\u001b[1;31mAttributeError\u001b[0m                            Traceback (most recent call last)",
      "\u001b[1;32m<ipython-input-19-547e1cbe2a46>\u001b[0m in \u001b[0;36m<module>\u001b[1;34m\u001b[0m\n\u001b[0;32m      1\u001b[0m \u001b[1;31m#FIRST BATCH OF FITTED COEFFICIENTS, PLUG BACK INTO THE GUESS FUNCTION TO GET EVEN BETTER BATCH\u001b[0m\u001b[1;33m\u001b[0m\u001b[1;33m\u001b[0m\u001b[1;33m\u001b[0m\u001b[0m\n\u001b[0;32m      2\u001b[0m \u001b[1;33m\u001b[0m\u001b[0m\n\u001b[1;32m----> 3\u001b[1;33m \u001b[0mprint\u001b[0m\u001b[1;33m(\u001b[0m\u001b[0mmpt_data\u001b[0m\u001b[1;33m.\u001b[0m\u001b[0mfit_Rs\u001b[0m\u001b[1;33m)\u001b[0m\u001b[1;33m\u001b[0m\u001b[1;33m\u001b[0m\u001b[0m\n\u001b[0m\u001b[0;32m      4\u001b[0m \u001b[0mprint\u001b[0m\u001b[1;33m(\u001b[0m\u001b[1;33m)\u001b[0m\u001b[1;33m\u001b[0m\u001b[1;33m\u001b[0m\u001b[0m\n\u001b[0;32m      5\u001b[0m \u001b[0mprint\u001b[0m\u001b[1;33m(\u001b[0m\u001b[0mmpt_data\u001b[0m\u001b[1;33m.\u001b[0m\u001b[0mfit_R\u001b[0m\u001b[1;33m)\u001b[0m\u001b[1;33m\u001b[0m\u001b[1;33m\u001b[0m\u001b[0m\n",
      "\u001b[1;31mAttributeError\u001b[0m: type object 'mpt_data' has no attribute 'fit_Rs'"
     ]
    }
   ],
   "source": [
    "#FIRST BATCH OF FITTED COEFFICIENTS, PLUG BACK INTO THE GUESS FUNCTION TO GET EVEN BETTER BATCH\n",
    "\n",
    "print(mpt_data.fit_Rs)\n",
    "print()\n",
    "print(mpt_data.fit_R)\n",
    "print(mpt_data.fit_n)\n",
    "print(mpt_data.fit_fs)\n",
    "print()\n",
    "print(mpt_data.fit_R2)\n",
    "print(mpt_data.fit_n2)\n",
    "print(mpt_data.fit_fs2)"
   ]
  },
  {
   "cell_type": "code",
   "execution_count": 36,
   "metadata": {},
   "outputs": [
    {
     "data": {
      "text/plain": [
       "[46.026712186410975,\n",
       " 2950.475404167372,\n",
       " 0.8464270792517148,\n",
       " 22910.72221538668,\n",
       " 557348.1023240507,\n",
       " 0.7071255497353838,\n",
       " 0.07673173553736744]"
      ]
     },
     "execution_count": 36,
     "metadata": {},
     "output_type": "execute_result"
    }
   ],
   "source": [
    "guess_package = [mpt_data.fit_Rs[0], mpt_data.fit_R[0], mpt_data.fit_n[0], mpt_data.fit_fs[0], mpt_data.fit_R2[0], mpt_data.fit_n2[0], mpt_data.fit_fs2[0]]\n",
    "guess_package"
   ]
  },
  {
   "cell_type": "code",
   "execution_count": 37,
   "metadata": {},
   "outputs": [],
   "source": [
    "#input: A GUESS PACKAGE OF INITIAL VARIABLE COEFFICIENTS TO CALCULATE THRU CIRCUIT EQ\n",
    "#output: A NEW GUESS PACKAGE THAT RAN THROUGH ONE ITERATION OF THE GUESS FUNCTION, Possibly use output for another iteration\n",
    "def guess(guess_package):\n",
    "    \n",
    "    #SINGLE ITERATION OF THE GUESS PROCESS\n",
    "    #USE THIS FUNCTION TO GET CLOSER TO THE IDEAL COEFFICIENTS FOR Rs, R, n, fs, R2, n2, fs2\n",
    "    #REPEAT THIS FUNCTION UNTIL THE THRESHOLD IS ACHEIVED\n",
    "    \n",
    "    params = Parameters()\n",
    "    \n",
    "    #adding to the parameters package to send to the fitting function\n",
    "    params.add('Rs', value=guess_package[0], min=guess_package[0]*.01, max=guess_package[0]*100)\n",
    "    params.add('R', value=guess_package[1], min=guess_package[1]*.1, max=guess_package[1]*10)\n",
    "    params.add('n', value=guess_package[2], min=.65, max=1.2)\n",
    "    params.add('fs', value=guess_package[3], min=10**0.5, max=10**6)\n",
    "    params.add('R2', value=guess_package[4], min=guess_package[4]*.1, max=guess_package[4]*10)\n",
    "    params.add('n2', value=guess_package[5], min=.65, max=1.2)\n",
    "    params.add('fs2', value=guess_package[6], min=10**-2, max=10**1)\n",
    "    \n",
    "    #Call to the fitting function given by PyEIS\n",
    "    mpt_data.EIS_fit(params=params, circuit='R-RQ-RQ', weight_func='modulus')\n",
    "    \n",
    "    #maybe take a look at the plots,may help for accuracy, don't really need it...\n",
    "    #mpt_data.EIS_plot(fitting = 'on')\n",
    "    \n",
    "    \n",
    "    #print out the values\n",
    "    print(mpt_data.fit_Rs)\n",
    "    print()\n",
    "    print(mpt_data.fit_R)\n",
    "    print(mpt_data.fit_n)\n",
    "    print(mpt_data.fit_fs)\n",
    "    print()\n",
    "    print(mpt_data.fit_R2)\n",
    "    print(mpt_data.fit_n2)\n",
    "    print(mpt_data.fit_fs2)\n",
    "    \n",
    "    #export the new guess package\n",
    "    guess_package =  ([mpt_data.fit_Rs[0],mpt_data.fit_R[0],mpt_data.fit_n[0],mpt_data.fit_fs[0],mpt_data.fit_R2[0],mpt_data.fit_n2[0],mpt_data.fit_fs2[0]])\n",
    "    return guess_package"
   ]
  },
  {
   "cell_type": "code",
   "execution_count": 38,
   "metadata": {},
   "outputs": [
    {
     "name": "stdout",
     "output_type": "stream",
     "text": [
      "[[Fit Statistics]]\n",
      "    # fitting method   = leastsq\n",
      "    # function evals   = 448\n",
      "    # data points      = 160\n",
      "    # variables        = 7\n",
      "    chi-square         = 118.677858\n",
      "    reduced chi-square = 0.77567228\n",
      "    Akaike info crit   = -33.8017705\n",
      "    Bayesian info crit = -12.2755538\n",
      "[[Variables]]\n",
      "    Rs:   37.9421650 +/- 2.99206679 (7.89%) (init = 46.02671)\n",
      "    R:    3041.08975 +/- 21.9832267 (0.72%) (init = 2950.475)\n",
      "    n:    0.83780759 +/- 0.00320634 (0.38%) (init = 0.8464271)\n",
      "    fs:   22278.1849 +/- 240.378224 (1.08%) (init = 22910.72)\n",
      "    R2:   55734.8108 +/- 4383.85918 (7.87%) (init = 557348.1)\n",
      "    n2:   0.76527960 +/- 0.01373443 (1.79%) (init = 0.7071255)\n",
      "    fs2:  3.10467778 +/- 1.49961220 (48.30%) (init = 0.07673174)\n",
      "[[Correlations]] (unreported correlations are < 0.100)\n",
      "    C(R2, fs2) = -0.999\n",
      "    C(n2, fs2) =  0.957\n",
      "    C(R2, n2)  = -0.944\n",
      "    C(R, n2)   =  0.903\n",
      "    C(R, fs)   = -0.891\n",
      "    C(R, fs2)  =  0.804\n",
      "    C(R, n)    = -0.803\n",
      "    C(R, R2)   = -0.786\n",
      "    C(n, fs)   =  0.778\n",
      "    C(fs, n2)  = -0.777\n",
      "    C(fs, fs2) = -0.675\n",
      "    C(fs, R2)  =  0.658\n",
      "    C(n, n2)   = -0.642\n",
      "    C(n, fs2)  = -0.556\n",
      "    C(n, R2)   =  0.542\n",
      "    C(Rs, n)   =  0.520\n",
      "    C(Rs, R)   = -0.412\n",
      "    C(Rs, n2)  = -0.230\n",
      "    C(Rs, fs)  =  0.225\n",
      "    C(Rs, fs2) = -0.196\n",
      "    C(Rs, R2)  =  0.191\n",
      "None\n",
      "[37.942165018156516]\n",
      "\n",
      "[3041.0897547831846]\n",
      "[0.8378075864850647]\n",
      "[22278.184894301263]\n",
      "\n",
      "[55734.810824405045]\n",
      "[0.7652796045198069]\n",
      "[3.104677778738697]\n"
     ]
    }
   ],
   "source": [
    "new_guess_package = [i for i in guess(guess_package)]"
   ]
  },
  {
   "cell_type": "code",
   "execution_count": 20,
   "metadata": {},
   "outputs": [
    {
     "ename": "SyntaxError",
     "evalue": "EOL while scanning string literal (<ipython-input-20-07cf1a9457fb>, line 1)",
     "output_type": "error",
     "traceback": [
      "\u001b[1;36m  File \u001b[1;32m\"<ipython-input-20-07cf1a9457fb>\"\u001b[1;36m, line \u001b[1;32m1\u001b[0m\n\u001b[1;33m    \"new_guess_package\u001b[0m\n\u001b[1;37m                      ^\u001b[0m\n\u001b[1;31mSyntaxError\u001b[0m\u001b[1;31m:\u001b[0m EOL while scanning string literal\n"
     ]
    }
   ],
   "source": [
    "new_guess_package"
   ]
  },
  {
   "cell_type": "code",
   "execution_count": 40,
   "metadata": {},
   "outputs": [
    {
     "data": {
      "text/plain": [
       "[46.026712186410975,\n",
       " 2950.475404167372,\n",
       " 0.8464270792517148,\n",
       " 22910.72221538668,\n",
       " 557348.1023240507,\n",
       " 0.7071255497353838,\n",
       " 0.07673173553736744]"
      ]
     },
     "execution_count": 40,
     "metadata": {},
     "output_type": "execute_result"
    }
   ],
   "source": [
    "guess_package"
   ]
  },
  {
   "cell_type": "code",
   "execution_count": 41,
   "metadata": {},
   "outputs": [],
   "source": [
    "#THIS VERIFIES WHETHER OR NOT WE'VE ACHEIVED A SATISFACTORY COEFFICIENT PACKAGE\n",
    "#IF THIS DOESN'T RETURN TRUE, WE RUN THE GUESSER UNTIL IT DOES\n",
    "def thresh_verif(before, after):\n",
    "    try:\n",
    "        total = 0\n",
    "        for i in range(len(before)):\n",
    "            total += (before[i] - after[i])\n",
    "        print(total)    \n",
    "        return abs(total) <= 1e-10\n",
    "    except IndexError as e:\n",
    "        #IF LISTS AREN'T THE SAME LENGTH\n",
    "        print(\"Lists are not the same length\")\n",
    "        return"
   ]
  },
  {
   "cell_type": "code",
   "execution_count": 42,
   "metadata": {},
   "outputs": [
    {
     "name": "stdout",
     "output_type": "stream",
     "text": [
      "502160.2215366783\n"
     ]
    },
    {
     "data": {
      "text/plain": [
       "False"
      ]
     },
     "execution_count": 42,
     "metadata": {},
     "output_type": "execute_result"
    }
   ],
   "source": [
    "thresh_verif(guess_package, new_guess_package)"
   ]
  },
  {
   "cell_type": "code",
   "execution_count": 43,
   "metadata": {},
   "outputs": [
    {
     "name": "stdout",
     "output_type": "stream",
     "text": [
      "[[Fit Statistics]]\n",
      "    # fitting method   = leastsq\n",
      "    # function evals   = 249\n",
      "    # data points      = 160\n",
      "    # variables        = 7\n",
      "    chi-square         = 98.2199122\n",
      "    reduced chi-square = 0.64196021\n",
      "    Akaike info crit   = -64.0743758\n",
      "    Bayesian info crit = -42.5481591\n",
      "[[Variables]]\n",
      "    Rs:   36.4336880 +/- 2.82663370 (7.76%) (init = 37.94217)\n",
      "    R:    3087.51280 +/- 19.6621375 (0.64%) (init = 3041.09)\n",
      "    n:    0.83347335 +/- 0.00288009 (0.35%) (init = 0.8378076)\n",
      "    fs:   21870.7403 +/- 217.031434 (0.99%) (init = 22278.18)\n",
      "    R2:   25921.0273 +/- 4755.80313 (18.35%) (init = 55734.81)\n",
      "    n2:   0.80612989 +/- 0.01446770 (1.79%) (init = 0.7652796)\n",
      "    fs2:  9.99999970 +/- 1.80581798 (18.06%) (init = 3.104678)\n",
      "[[Correlations]] (unreported correlations are < 0.100)\n",
      "    C(R2, fs2) =  0.999\n",
      "    C(n2, fs2) = -0.953\n",
      "    C(R2, n2)  = -0.938\n",
      "    C(R, fs)   = -0.885\n",
      "    C(R, n2)   =  0.875\n",
      "    C(R, n)    = -0.782\n",
      "    C(R, fs2)  = -0.765\n",
      "    C(n, fs)   =  0.758\n",
      "    C(R, R2)   = -0.745\n",
      "    C(fs, n2)  = -0.740\n",
      "    C(fs, fs2) =  0.627\n",
      "    C(fs, R2)  =  0.609\n",
      "    C(n, n2)   = -0.583\n",
      "    C(Rs, n)   =  0.524\n",
      "    C(n, fs2)  =  0.488\n",
      "    C(n, R2)   =  0.474\n",
      "    C(Rs, R)   = -0.416\n",
      "    C(Rs, fs)  =  0.221\n",
      "    C(Rs, n2)  = -0.216\n",
      "    C(Rs, fs2) =  0.177\n",
      "    C(Rs, R2)  =  0.172\n",
      "None\n",
      "[36.43368796924612]\n",
      "\n",
      "[3087.512804001108]\n",
      "[0.8334733482659047]\n",
      "[21870.74030453565]\n",
      "\n",
      "[25921.02734550091]\n",
      "[0.806129892022259]\n",
      "[9.999999696916895]\n"
     ]
    }
   ],
   "source": [
    "new_new_guess_package = guess(new_guess_package)"
   ]
  },
  {
   "cell_type": "code",
   "execution_count": 44,
   "metadata": {},
   "outputs": [
    {
     "name": "stdout",
     "output_type": "stream",
     "text": [
      "30169.38165853327\n"
     ]
    },
    {
     "data": {
      "text/plain": [
       "False"
      ]
     },
     "execution_count": 44,
     "metadata": {},
     "output_type": "execute_result"
    }
   ],
   "source": [
    "thresh_verif(new_guess_package, new_new_guess_package)"
   ]
  },
  {
   "cell_type": "code",
   "execution_count": 45,
   "metadata": {},
   "outputs": [
    {
     "name": "stdout",
     "output_type": "stream",
     "text": [
      "[[Fit Statistics]]\n",
      "    # fitting method   = leastsq\n",
      "    # function evals   = 14\n",
      "    # data points      = 160\n",
      "    # variables        = 7\n",
      "    chi-square         = 98.2199122\n",
      "    reduced chi-square = 0.64196021\n",
      "    Akaike info crit   = -64.0743758\n",
      "    Bayesian info crit = -42.5481591\n",
      "[[Variables]]\n",
      "    Rs:   36.4336880 +/- 2.82669581 (7.76%) (init = 36.43369)\n",
      "    R:    3087.51280 +/- 19.6711620 (0.64%) (init = 3087.513)\n",
      "    n:    0.83347335 +/- 0.00288054 (0.35%) (init = 0.8334733)\n",
      "    fs:   21870.7403 +/- 217.098084 (0.99%) (init = 21870.74)\n",
      "    R2:   25921.0273 +/- 4757.85181 (18.36%) (init = 25921.03)\n",
      "    n2:   0.80612989 +/- 0.01447511 (1.80%) (init = 0.8061299)\n",
      "    fs2:  9.99999970 +/- 2.82142396 (28.21%) (init = 10)\n",
      "[[Correlations]] (unreported correlations are < 0.100)\n",
      "    C(R2, fs2) = -0.999\n",
      "    C(n2, fs2) =  0.953\n",
      "    C(R2, n2)  = -0.938\n",
      "    C(R, fs)   = -0.885\n",
      "    C(R, n2)   =  0.876\n",
      "    C(R, n)    = -0.782\n",
      "    C(R, fs2)  =  0.765\n",
      "    C(n, fs)   =  0.758\n",
      "    C(R, R2)   = -0.745\n",
      "    C(fs, n2)  = -0.740\n",
      "    C(fs, fs2) = -0.627\n",
      "    C(fs, R2)  =  0.609\n",
      "    C(n, n2)   = -0.584\n",
      "    C(Rs, n)   =  0.524\n",
      "    C(n, fs2)  = -0.489\n",
      "    C(n, R2)   =  0.474\n",
      "    C(Rs, R)   = -0.416\n",
      "    C(Rs, fs)  =  0.221\n",
      "    C(Rs, n2)  = -0.216\n",
      "    C(Rs, fs2) = -0.177\n",
      "    C(Rs, R2)  =  0.172\n",
      "None\n",
      "[36.43368796924615]\n",
      "\n",
      "[3087.5128040011086]\n",
      "[0.8334733482659047]\n",
      "[21870.74030453565]\n",
      "\n",
      "[25921.027345500905]\n",
      "[0.806129892022259]\n",
      "[9.999999696916895]\n"
     ]
    }
   ],
   "source": [
    "new_new_new_guess_package = guess(new_new_guess_package)"
   ]
  },
  {
   "cell_type": "code",
   "execution_count": 46,
   "metadata": {},
   "outputs": [
    {
     "name": "stdout",
     "output_type": "stream",
     "text": [
      "3.154809746774845e-12\n"
     ]
    },
    {
     "data": {
      "text/plain": [
       "True"
      ]
     },
     "execution_count": 46,
     "metadata": {},
     "output_type": "execute_result"
    }
   ],
   "source": [
    "thresh_verif(new_new_guess_package, new_new_new_guess_package)"
   ]
  },
  {
   "cell_type": "code",
   "execution_count": 47,
   "metadata": {},
   "outputs": [],
   "source": [
    "#ITERATIVE GUESSER\n",
    "def guesser(Rs_guess,R_guess,n_guess,fs_guess,R2_guess,n2_guess,fs2_guess):\n",
    "    guess_package = [Rs_guess, R_guess, n_guess, fs_guess, R2_guess, n2_guess, fs2_guess]\n",
    "    new_guess = guess(guess_package)\n",
    "    while not thresh_verif(guess_package, new_guess):\n",
    "        guess_package = new_guess\n",
    "        new_guess = guess(new_guess)\n",
    "        print(new_guess)\n",
    "    return new_guess"
   ]
  },
  {
   "cell_type": "code",
   "execution_count": 48,
   "metadata": {},
   "outputs": [
    {
     "name": "stdout",
     "output_type": "stream",
     "text": [
      "[[Fit Statistics]]\n",
      "    # fitting method   = leastsq\n",
      "    # function evals   = 495\n",
      "    # data points      = 160\n",
      "    # variables        = 7\n",
      "    chi-square         = 98.2199118\n",
      "    reduced chi-square = 0.64196021\n",
      "    Akaike info crit   = -64.0743764\n",
      "    Bayesian info crit = -42.5481597\n",
      "[[Variables]]\n",
      "    Rs:   36.4338586 +/- 2.82658380 (7.76%) (init = 40)\n",
      "    R:    3087.50794 +/- 19.6585418 (0.64%) (init = 2959)\n",
      "    n:    0.83347406 +/- 0.00287959 (0.35%) (init = 0.8)\n",
      "    fs:   21870.8087 +/- 216.994229 (0.99%) (init = 23023)\n",
      "    R2:   25921.0300 +/- 4755.04107 (18.34%) (init = 258738)\n",
      "    n2:   0.80612895 +/- 0.01446491 (1.79%) (init = 0.8)\n",
      "    fs2:  9.99999989 +/- 2.81936919 (28.19%) (init = 0.2)\n",
      "[[Correlations]] (unreported correlations are < 0.100)\n",
      "    C(R2, fs2) = -0.999\n",
      "    C(n2, fs2) =  0.953\n",
      "    C(R2, n2)  = -0.938\n",
      "    C(R, fs)   = -0.885\n",
      "    C(R, n2)   =  0.875\n",
      "    C(R, n)    = -0.782\n",
      "    C(R, fs2)  =  0.764\n",
      "    C(n, fs)   =  0.758\n",
      "    C(R, R2)   = -0.745\n",
      "    C(fs, n2)  = -0.739\n",
      "    C(fs, fs2) = -0.627\n",
      "    C(fs, R2)  =  0.609\n",
      "    C(n, n2)   = -0.583\n",
      "    C(Rs, n)   =  0.524\n",
      "    C(n, fs2)  = -0.488\n",
      "    C(n, R2)   =  0.474\n",
      "    C(Rs, R)   = -0.416\n",
      "    C(Rs, fs)  =  0.221\n",
      "    C(Rs, n2)  = -0.216\n",
      "    C(Rs, fs2) = -0.177\n",
      "    C(Rs, R2)  =  0.172\n",
      "None\n",
      "[36.4338585551669]\n",
      "\n",
      "[3087.5079395526764]\n",
      "[0.833474063752542]\n",
      "[21870.80868151527]\n",
      "\n",
      "[25921.030048162283]\n",
      "[0.8061289476777818]\n",
      "[9.999999885298356]\n",
      "233834.3798693179\n",
      "[[Fit Statistics]]\n",
      "    # fitting method   = leastsq\n",
      "    # function evals   = 14\n",
      "    # data points      = 160\n",
      "    # variables        = 7\n",
      "    chi-square         = 98.2199118\n",
      "    reduced chi-square = 0.64196021\n",
      "    Akaike info crit   = -64.0743764\n",
      "    Bayesian info crit = -42.5481597\n",
      "[[Variables]]\n",
      "    Rs:   36.4338586 +/- 2.82684965 (7.76%) (init = 36.43386)\n",
      "    R:    3087.50794 +/- 19.6805757 (0.64%) (init = 3087.508)\n",
      "    n:    0.83347406 +/- 0.00288152 (0.35%) (init = 0.8334741)\n",
      "    fs:   21870.8087 +/- 217.147973 (0.99%) (init = 21870.81)\n",
      "    R2:   25921.0300 +/- 4760.65714 (18.37%) (init = 25921.03)\n",
      "    n2:   0.80612895 +/- 0.01448674 (1.80%) (init = 0.8061289)\n",
      "    fs2:  9.99999989 +/- 2.82360901 (28.24%) (init = 10)\n",
      "[[Correlations]] (unreported correlations are < 0.100)\n",
      "    C(R2, fs2) = -0.999\n",
      "    C(n2, fs2) =  0.953\n",
      "    C(R2, n2)  = -0.938\n",
      "    C(R, fs)   = -0.885\n",
      "    C(R, n2)   =  0.876\n",
      "    C(R, n)    = -0.782\n",
      "    C(R, fs2)  =  0.765\n",
      "    C(n, fs)   =  0.759\n",
      "    C(R, R2)   = -0.745\n",
      "    C(fs, n2)  = -0.740\n",
      "    C(fs, fs2) = -0.628\n",
      "    C(fs, R2)  =  0.609\n",
      "    C(n, n2)   = -0.584\n",
      "    C(Rs, n)   =  0.524\n",
      "    C(n, fs2)  = -0.489\n",
      "    C(n, R2)   =  0.475\n",
      "    C(Rs, R)   = -0.416\n",
      "    C(Rs, fs)  =  0.221\n",
      "    C(Rs, n2)  = -0.216\n",
      "    C(Rs, fs2) = -0.177\n",
      "    C(Rs, R2)  =  0.172\n",
      "None\n",
      "[36.433858555166935]\n",
      "\n",
      "[3087.5079395526755]\n",
      "[0.833474063752542]\n",
      "[21870.80868151527]\n",
      "\n",
      "[25921.03004816229]\n",
      "[0.8061289476777818]\n",
      "[9.999999885298356]\n",
      "[36.433858555166935, 3087.5079395526755, 0.833474063752542, 21870.80868151527, 25921.03004816229, 0.8061289476777818, 9.999999885298356]\n",
      "-6.401990049198503e-12\n"
     ]
    },
    {
     "data": {
      "text/plain": [
       "[36.433858555166935,\n",
       " 3087.5079395526755,\n",
       " 0.833474063752542,\n",
       " 21870.80868151527,\n",
       " 25921.03004816229,\n",
       " 0.8061289476777818,\n",
       " 9.999999885298356]"
      ]
     },
     "execution_count": 48,
     "metadata": {},
     "output_type": "execute_result"
    }
   ],
   "source": [
    "#CUMULATION OF THE FUNCTIONS FROM ABOVE\n",
    "\n",
    "#GUESSES BROUGHT FROM INIT VALUES\n",
    "Rs_guess = 40\n",
    "\n",
    "R_guess = 2959\n",
    "n_guess = 0.8\n",
    "fs_guess = 23023\n",
    "\n",
    "R2_guess = 258738\n",
    "n2_guess = 0.8\n",
    "fs2_guess = 0.2\n",
    "\n",
    "\n",
    "#COMPLETE FUNCTION\n",
    "guesser(Rs_guess,R_guess,n_guess,fs_guess,R2_guess,n2_guess,fs2_guess)"
   ]
  },
  {
   "cell_type": "code",
   "execution_count": 21,
   "metadata": {},
   "outputs": [
    {
     "ename": "AttributeError",
     "evalue": "type object 'mpt_data' has no attribute 'EIS_plot'",
     "output_type": "error",
     "traceback": [
      "\u001b[1;31m---------------------------------------------------------------------------\u001b[0m",
      "\u001b[1;31mAttributeError\u001b[0m                            Traceback (most recent call last)",
      "\u001b[1;32m<ipython-input-21-1f29b947b6e4>\u001b[0m in \u001b[0;36m<module>\u001b[1;34m\u001b[0m\n\u001b[1;32m----> 1\u001b[1;33m \u001b[0mmpt_data\u001b[0m\u001b[1;33m.\u001b[0m\u001b[0mEIS_plot\u001b[0m\u001b[1;33m(\u001b[0m\u001b[0mfitting\u001b[0m \u001b[1;33m=\u001b[0m \u001b[1;34m'on'\u001b[0m\u001b[1;33m)\u001b[0m\u001b[1;33m\u001b[0m\u001b[1;33m\u001b[0m\u001b[0m\n\u001b[0m",
      "\u001b[1;31mAttributeError\u001b[0m: type object 'mpt_data' has no attribute 'EIS_plot'"
     ]
    }
   ],
   "source": [
    "mpt_data.EIS_plot(fitting = 'on')"
   ]
  },
  {
   "cell_type": "code",
   "execution_count": null,
   "metadata": {},
   "outputs": [],
   "source": []
  }
 ],
 "metadata": {
  "kernelspec": {
   "display_name": "Python 3",
   "language": "python",
   "name": "python3"
  },
  "language_info": {
   "codemirror_mode": {
    "name": "ipython",
    "version": 3
   },
   "file_extension": ".py",
   "mimetype": "text/x-python",
   "name": "python",
   "nbconvert_exporter": "python",
   "pygments_lexer": "ipython3",
   "version": "3.8.1-final"
  }
 },
 "nbformat": 4,
 "nbformat_minor": 2
}